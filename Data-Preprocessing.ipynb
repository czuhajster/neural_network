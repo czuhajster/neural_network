{
 "cells": [
  {
   "cell_type": "code",
   "execution_count": 1,
   "id": "f7c8682d",
   "metadata": {},
   "outputs": [],
   "source": [
    "\"\"\"Preprocesses data for training.\n",
    "\n",
    "Preferrably, run using Jupyter Notebook.\n",
    "\"\"\"\n",
    "\n",
    "import pandas as pd\n",
    "import numpy as np\n"
   ]
  },
  {
   "cell_type": "code",
   "execution_count": 2,
   "id": "1f096c33",
   "metadata": {},
   "outputs": [],
   "source": [
    "# Read raw data from the excel file.\n",
    "raw_data = pd.read_excel(\n",
    "    \"data/ouse93-96-raw-data.xlsx\",\n",
    "    index_col=0,\n",
    "    header=1,\n",
    "    usecols='A:I'\n",
    ")"
   ]
  },
  {
   "cell_type": "code",
   "execution_count": 3,
   "id": "b9d1161e",
   "metadata": {},
   "outputs": [],
   "source": [
    "# Convert columns to float values. Turn non-numeric values into np.nan.\n",
    "for column in raw_data.columns[1:]:\n",
    "    raw_data[column] = pd.to_numeric(raw_data[column], errors='coerce')"
   ]
  },
  {
   "cell_type": "code",
   "execution_count": 4,
   "id": "7a2ae057",
   "metadata": {},
   "outputs": [],
   "source": [
    "# Convert negative values into np.nan.\n",
    "raw_data = raw_data.mask(raw_data < 0, np.nan)"
   ]
  },
  {
   "cell_type": "code",
   "execution_count": 5,
   "id": "8c99e6ac",
   "metadata": {},
   "outputs": [
    {
     "data": {
      "text/html": [
       "<div>\n",
       "<style scoped>\n",
       "    .dataframe tbody tr th:only-of-type {\n",
       "        vertical-align: middle;\n",
       "    }\n",
       "\n",
       "    .dataframe tbody tr th {\n",
       "        vertical-align: top;\n",
       "    }\n",
       "\n",
       "    .dataframe thead th {\n",
       "        text-align: right;\n",
       "    }\n",
       "</style>\n",
       "<table border=\"1\" class=\"dataframe\">\n",
       "  <thead>\n",
       "    <tr style=\"text-align: right;\">\n",
       "      <th></th>\n",
       "      <th>Crakehill</th>\n",
       "      <th>Skip Bridge</th>\n",
       "      <th>Westwick</th>\n",
       "      <th>Skelton</th>\n",
       "      <th>Arkengarthdale</th>\n",
       "      <th>East Cowton</th>\n",
       "      <th>Malham Tarn</th>\n",
       "      <th>Snaizeholme</th>\n",
       "    </tr>\n",
       "  </thead>\n",
       "  <tbody>\n",
       "    <tr>\n",
       "      <th>1993-02-13</th>\n",
       "      <td>NaN</td>\n",
       "      <td>5.476</td>\n",
       "      <td>11.051</td>\n",
       "      <td>30.73</td>\n",
       "      <td>0.0</td>\n",
       "      <td>0.0</td>\n",
       "      <td>0.0</td>\n",
       "      <td>0.0</td>\n",
       "    </tr>\n",
       "    <tr>\n",
       "      <th>1993-03-15</th>\n",
       "      <td>NaN</td>\n",
       "      <td>2.546</td>\n",
       "      <td>7.179</td>\n",
       "      <td>18.06</td>\n",
       "      <td>11.2</td>\n",
       "      <td>0.0</td>\n",
       "      <td>86.0</td>\n",
       "      <td>19.2</td>\n",
       "    </tr>\n",
       "    <tr>\n",
       "      <th>1993-03-16</th>\n",
       "      <td>NaN</td>\n",
       "      <td>2.494</td>\n",
       "      <td>7.232</td>\n",
       "      <td>17.16</td>\n",
       "      <td>0.8</td>\n",
       "      <td>0.0</td>\n",
       "      <td>12.8</td>\n",
       "      <td>8.0</td>\n",
       "    </tr>\n",
       "    <tr>\n",
       "      <th>1993-04-07</th>\n",
       "      <td>22.90</td>\n",
       "      <td>4.159</td>\n",
       "      <td>26.603</td>\n",
       "      <td>NaN</td>\n",
       "      <td>2.4</td>\n",
       "      <td>0.0</td>\n",
       "      <td>0.0</td>\n",
       "      <td>3.2</td>\n",
       "    </tr>\n",
       "    <tr>\n",
       "      <th>1993-04-27</th>\n",
       "      <td>24.40</td>\n",
       "      <td>11.684</td>\n",
       "      <td>22.181</td>\n",
       "      <td>73.96</td>\n",
       "      <td>NaN</td>\n",
       "      <td>0.0</td>\n",
       "      <td>0.0</td>\n",
       "      <td>0.0</td>\n",
       "    </tr>\n",
       "    <tr>\n",
       "      <th>1995-03-01</th>\n",
       "      <td>80.60</td>\n",
       "      <td>19.096</td>\n",
       "      <td>100.761</td>\n",
       "      <td>174.00</td>\n",
       "      <td>17.6</td>\n",
       "      <td>NaN</td>\n",
       "      <td>51.2</td>\n",
       "      <td>21.6</td>\n",
       "    </tr>\n",
       "    <tr>\n",
       "      <th>1996-02-09</th>\n",
       "      <td>12.70</td>\n",
       "      <td>NaN</td>\n",
       "      <td>7.576</td>\n",
       "      <td>20.58</td>\n",
       "      <td>0.0</td>\n",
       "      <td>37.6</td>\n",
       "      <td>12.0</td>\n",
       "      <td>14.4</td>\n",
       "    </tr>\n",
       "    <tr>\n",
       "      <th>1996-04-18</th>\n",
       "      <td>7.61</td>\n",
       "      <td>NaN</td>\n",
       "      <td>13.918</td>\n",
       "      <td>16.84</td>\n",
       "      <td>0.8</td>\n",
       "      <td>4.8</td>\n",
       "      <td>47.2</td>\n",
       "      <td>32.0</td>\n",
       "    </tr>\n",
       "  </tbody>\n",
       "</table>\n",
       "</div>"
      ],
      "text/plain": [
       "            Crakehill  Skip Bridge  Westwick  Skelton  Arkengarthdale  \\\n",
       "1993-02-13        NaN        5.476    11.051    30.73             0.0   \n",
       "1993-03-15        NaN        2.546     7.179    18.06            11.2   \n",
       "1993-03-16        NaN        2.494     7.232    17.16             0.8   \n",
       "1993-04-07      22.90        4.159    26.603      NaN             2.4   \n",
       "1993-04-27      24.40       11.684    22.181    73.96             NaN   \n",
       "1995-03-01      80.60       19.096   100.761   174.00            17.6   \n",
       "1996-02-09      12.70          NaN     7.576    20.58             0.0   \n",
       "1996-04-18       7.61          NaN    13.918    16.84             0.8   \n",
       "\n",
       "            East Cowton  Malham Tarn  Snaizeholme  \n",
       "1993-02-13          0.0          0.0          0.0  \n",
       "1993-03-15          0.0         86.0         19.2  \n",
       "1993-03-16          0.0         12.8          8.0  \n",
       "1993-04-07          0.0          0.0          3.2  \n",
       "1993-04-27          0.0          0.0          0.0  \n",
       "1995-03-01          NaN         51.2         21.6  \n",
       "1996-02-09         37.6         12.0         14.4  \n",
       "1996-04-18          4.8         47.2         32.0  "
      ]
     },
     "execution_count": 5,
     "metadata": {},
     "output_type": "execute_result"
    }
   ],
   "source": [
    "# Print all rows with NAN values.\n",
    "raw_data[raw_data.isna().any(axis=1)]"
   ]
  },
  {
   "cell_type": "code",
   "execution_count": 6,
   "id": "a7e1ba23",
   "metadata": {
    "scrolled": true
   },
   "outputs": [],
   "source": [
    "# Imputate spurious data.\n",
    "raw_data = raw_data.interpolate(method=\"linear\")"
   ]
  },
  {
   "cell_type": "code",
   "execution_count": 9,
   "id": "2cad8a73",
   "metadata": {},
   "outputs": [
    {
     "data": {
      "text/html": [
       "<div>\n",
       "<style scoped>\n",
       "    .dataframe tbody tr th:only-of-type {\n",
       "        vertical-align: middle;\n",
       "    }\n",
       "\n",
       "    .dataframe tbody tr th {\n",
       "        vertical-align: top;\n",
       "    }\n",
       "\n",
       "    .dataframe thead th {\n",
       "        text-align: right;\n",
       "    }\n",
       "</style>\n",
       "<table border=\"1\" class=\"dataframe\">\n",
       "  <thead>\n",
       "    <tr style=\"text-align: right;\">\n",
       "      <th></th>\n",
       "      <th>Crakehill</th>\n",
       "      <th>Skip Bridge</th>\n",
       "      <th>Westwick</th>\n",
       "      <th>Skelton</th>\n",
       "      <th>Arkengarthdale</th>\n",
       "      <th>East Cowton</th>\n",
       "      <th>Malham Tarn</th>\n",
       "      <th>Snaizeholme</th>\n",
       "    </tr>\n",
       "  </thead>\n",
       "  <tbody>\n",
       "  </tbody>\n",
       "</table>\n",
       "</div>"
      ],
      "text/plain": [
       "Empty DataFrame\n",
       "Columns: [Crakehill, Skip Bridge, Westwick, Skelton, Arkengarthdale, East Cowton, Malham Tarn, Snaizeholme]\n",
       "Index: []"
      ]
     },
     "execution_count": 9,
     "metadata": {},
     "output_type": "execute_result"
    }
   ],
   "source": [
    "# Print all rows with NAN values.\n",
    "raw_data[raw_data.isna().any(axis=1)]"
   ]
  }
 ],
 "metadata": {
  "kernelspec": {
   "display_name": "Python 3",
   "language": "python",
   "name": "python3"
  },
  "language_info": {
   "codemirror_mode": {
    "name": "ipython",
    "version": 3
   },
   "file_extension": ".py",
   "mimetype": "text/x-python",
   "name": "python",
   "nbconvert_exporter": "python",
   "pygments_lexer": "ipython3",
   "version": "3.8.8"
  }
 },
 "nbformat": 4,
 "nbformat_minor": 5
}
