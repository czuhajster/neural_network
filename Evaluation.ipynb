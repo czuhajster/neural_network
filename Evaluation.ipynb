{
 "cells": [
  {
   "cell_type": "code",
   "execution_count": null,
   "id": "1a470df7",
   "metadata": {},
   "outputs": [],
   "source": [
    "import pandas as pd\n",
    "\n",
    "configs = pd.read_csv(\n",
    "    \"data/neural-network-configs-test-set.csv\",\n",
    "    names=[\n",
    "        \"Activation Function\",\n",
    "        \"Hidden Nodes\",\n",
    "        \"Learning Parameter\",\n",
    "        \"Training Time (s)\",\n",
    "        \"Epochs\",\n",
    "        \"Validation Error\",\n",
    "        \"MSE\",\n",
    "        \"RMSE\",\n",
    "        \"MSRE\",\n",
    "        \"CE\",\n",
    "        \"RSqr\"\n",
    "    ]\n",
    ")"
   ]
  },
  {
   "cell_type": "code",
   "execution_count": null,
   "id": "e608f626",
   "metadata": {},
   "outputs": [],
   "source": [
    "configs"
   ]
  },
  {
   "cell_type": "code",
   "execution_count": null,
   "id": "289ec0ef",
   "metadata": {},
   "outputs": [],
   "source": [
    "configs.loc[configs['MSE'].idxmin()]"
   ]
  },
  {
   "cell_type": "code",
   "execution_count": null,
   "id": "927d712c",
   "metadata": {},
   "outputs": [],
   "source": [
    "mse = configs.sort_values(\"MSE\", ascending=True).iloc[[0, 1, 2, -3, -2, -1]]\n",
    "mse"
   ]
  },
  {
   "cell_type": "code",
   "execution_count": null,
   "id": "cecf9ad2",
   "metadata": {},
   "outputs": [],
   "source": [
    "configs.loc[configs['RMSE'].idxmin()]"
   ]
  },
  {
   "cell_type": "code",
   "execution_count": null,
   "id": "6fb823c8",
   "metadata": {},
   "outputs": [],
   "source": [
    "rmse = configs.sort_values(\"RMSE\", ascending=True).iloc[[0, 1, 2, -3, -2, -1]]\n",
    "rmse"
   ]
  },
  {
   "cell_type": "code",
   "execution_count": null,
   "id": "0b25edcd",
   "metadata": {},
   "outputs": [],
   "source": [
    "configs.loc[configs['MSRE'].idxmin()]"
   ]
  },
  {
   "cell_type": "code",
   "execution_count": null,
   "id": "43e1f4a3",
   "metadata": {
    "scrolled": true
   },
   "outputs": [],
   "source": [
    "msre = configs.sort_values(\"MSRE\", ascending=True).iloc[[0, 1, 2, -3, -2, -1]]\n",
    "msre"
   ]
  },
  {
   "cell_type": "code",
   "execution_count": null,
   "id": "f4f42ca6",
   "metadata": {},
   "outputs": [],
   "source": [
    "configs.loc[configs['CE'].idxmax()]"
   ]
  },
  {
   "cell_type": "code",
   "execution_count": null,
   "id": "345664fc",
   "metadata": {},
   "outputs": [],
   "source": [
    "ce = configs.sort_values(\"CE\", ascending=False).iloc[[0, 1, 2, -3, -2, -1]]\n",
    "ce"
   ]
  },
  {
   "cell_type": "code",
   "execution_count": null,
   "id": "c4e616e4",
   "metadata": {},
   "outputs": [],
   "source": [
    "configs.loc[configs['RSqr'].idxmax()]"
   ]
  },
  {
   "cell_type": "code",
   "execution_count": null,
   "id": "9e21a27d",
   "metadata": {
    "scrolled": true
   },
   "outputs": [],
   "source": [
    "rsqr = configs.sort_values(\"RSqr\", ascending=False).iloc[[0, 1, 2, -3, -2, -1]]\n",
    "rsqr"
   ]
  },
  {
   "cell_type": "code",
   "execution_count": null,
   "id": "d29faba5",
   "metadata": {},
   "outputs": [],
   "source": [
    "selected_configs = pd.read_csv(\n",
    "    \"data/neural-network-selected-configs-test-set.csv\",\n",
    "    names=[\n",
    "        \"Activation Function\",\n",
    "        \"Hidden Nodes\",\n",
    "        \"Learning Parameter\",\n",
    "        \"Training Time (s)\",\n",
    "        \"Epochs\",\n",
    "        \"Validation Error\",\n",
    "        \"MSE\",\n",
    "        \"RMSE\",\n",
    "        \"MSRE\",\n",
    "        \"CE\",\n",
    "        \"RSqr\"\n",
    "    ]\n",
    ")\n",
    "selected_configs"
   ]
  },
  {
   "cell_type": "code",
   "execution_count": null,
   "id": "484c676d",
   "metadata": {},
   "outputs": [],
   "source": [
    "selected_configs.loc[selected_configs['MSE'].idxmin()]"
   ]
  },
  {
   "cell_type": "code",
   "execution_count": null,
   "id": "831187a3",
   "metadata": {},
   "outputs": [],
   "source": [
    "selected_configs.loc[selected_configs['RMSE'].idxmin()]"
   ]
  },
  {
   "cell_type": "code",
   "execution_count": null,
   "id": "856921b7",
   "metadata": {},
   "outputs": [],
   "source": [
    "selected_configs.loc[selected_configs['MSRE'].idxmin()]"
   ]
  },
  {
   "cell_type": "code",
   "execution_count": null,
   "id": "a6b2831f",
   "metadata": {},
   "outputs": [],
   "source": [
    "selected_configs.loc[selected_configs['CE'].idxmax()]"
   ]
  },
  {
   "cell_type": "code",
   "execution_count": null,
   "id": "d432fba6",
   "metadata": {},
   "outputs": [],
   "source": [
    "selected_configs.loc[selected_configs['RSqr'].idxmax()]"
   ]
  },
  {
   "cell_type": "code",
   "execution_count": null,
   "id": "58fa28e6",
   "metadata": {},
   "outputs": [],
   "source": [
    "sa_momentum = pd.read_csv(\n",
    "    \"sigmoid-6-0.2-mo-sa.csv\",\n",
    "    names=[\n",
    "        \"Activation Function\",\n",
    "        \"Hidden Nodes\",\n",
    "        \"Learning Parameter\",\n",
    "        \"Training Time (s)\",\n",
    "        \"Epochs\",\n",
    "        \"Validation Error\",\n",
    "        \"MSE\",\n",
    "        \"RMSE\",\n",
    "        \"MSRE\",\n",
    "        \"CE\",\n",
    "        \"RSqr\"\n",
    "    ]\n",
    ")\n",
    "sa_momentum"
   ]
  },
  {
   "cell_type": "code",
   "execution_count": null,
   "id": "790cf512",
   "metadata": {},
   "outputs": [],
   "source": [
    "perecents = 100 - 100 * (sa_momentum[[\"MSE\", \"RMSE\", \"MSRE\", \"CE\", \"RSqr\"]] / selected_configs.loc[1,[\"MSE\", \"RMSE\", \"MSRE\", \"CE\", \"RSqr\"]])\n",
    "perecents"
   ]
  },
  {
   "cell_type": "code",
   "execution_count": null,
   "id": "19d5356e",
   "metadata": {},
   "outputs": [],
   "source": [
    "sa = pd.read_csv(\n",
    "    \"sigmoid-6-0.2-sa.csv\",\n",
    "    names=[\n",
    "        \"Activation Function\",\n",
    "        \"Hidden Nodes\",\n",
    "        \"Learning Parameter\",\n",
    "        \"Training Time (s)\",\n",
    "        \"Epochs\",\n",
    "        \"Validation Error\",\n",
    "        \"MSE\",\n",
    "        \"RMSE\",\n",
    "        \"MSRE\",\n",
    "        \"CE\",\n",
    "        \"RSqr\"\n",
    "    ]\n",
    ")\n",
    "sa"
   ]
  },
  {
   "cell_type": "code",
   "execution_count": null,
   "id": "7a1b0db0",
   "metadata": {},
   "outputs": [],
   "source": [
    "perecents = 100 - 100 * (sa[[\"MSE\", \"RMSE\", \"MSRE\", \"CE\", \"RSqr\"]] / selected_configs.loc[1,[\"MSE\", \"RMSE\", \"MSRE\", \"CE\", \"RSqr\"]])\n",
    "perecents"
   ]
  },
  {
   "cell_type": "code",
   "execution_count": null,
   "id": "c2acd1ae",
   "metadata": {},
   "outputs": [],
   "source": [
    "validation_configs = pd.read_csv(\n",
    "    \"data/neural-network-configs-validation-set.csv\",\n",
    "    names=[\n",
    "        \"Activation Function\",\n",
    "        \"Hidden Nodes\",\n",
    "        \"Learning Parameter\",\n",
    "        \"Training Time (s)\",\n",
    "        \"Epochs\",\n",
    "        \"Validation Error\",\n",
    "        \"MSE\",\n",
    "        \"RMSE\",\n",
    "        \"MSRE\",\n",
    "        \"CE\",\n",
    "        \"RSqr\"\n",
    "    ]\n",
    ")"
   ]
  },
  {
   "cell_type": "code",
   "execution_count": null,
   "id": "0f47e439",
   "metadata": {},
   "outputs": [],
   "source": [
    "validation_configs.sort_values(\"MSE\", ascending=True).iloc[[0, 1, 2, -3, -2, -1]]"
   ]
  },
  {
   "cell_type": "code",
   "execution_count": null,
   "id": "31321069",
   "metadata": {},
   "outputs": [],
   "source": [
    "validation_configs.sort_values(\"RMSE\", ascending=True).iloc[[0, 1, 2, -3, -2, -1]]"
   ]
  },
  {
   "cell_type": "code",
   "execution_count": null,
   "id": "6ffe575a",
   "metadata": {},
   "outputs": [],
   "source": [
    "validation_configs.sort_values(\"MSRE\", ascending=True).iloc[[0, 1, 2, -3, -2, -1]]"
   ]
  },
  {
   "cell_type": "code",
   "execution_count": null,
   "id": "91768273",
   "metadata": {},
   "outputs": [],
   "source": [
    "validation_configs.sort_values(\"CE\", ascending=False).iloc[[0, 1, 2, -3, -2, -1]]"
   ]
  },
  {
   "cell_type": "code",
   "execution_count": null,
   "id": "14437782",
   "metadata": {
    "scrolled": true
   },
   "outputs": [],
   "source": [
    "validation_configs.sort_values(\"RSqr\", ascending=False).iloc[[0, 1, 2, -3, -2, -1]]"
   ]
  },
  {
   "cell_type": "code",
   "execution_count": null,
   "id": "b9842bdf",
   "metadata": {},
   "outputs": [],
   "source": [
    "validation_configs[validation_configs[\"Activation Function\"] == \"Tanh\"].sort_values(\"RSqr\", ascending=False).iloc[[0, 1, 2, -3, -2, -1]]"
   ]
  },
  {
   "cell_type": "code",
   "execution_count": null,
   "id": "f58339e9",
   "metadata": {},
   "outputs": [],
   "source": [
    "validation_configs[validation_configs[\"Activation Function\"] == \"Tanh\"].sort_values(\"CE\", ascending=False).iloc[[0, 1, 2, -3, -2, -1]]"
   ]
  },
  {
   "cell_type": "code",
   "execution_count": null,
   "id": "8215cb6b",
   "metadata": {},
   "outputs": [],
   "source": [
    "validation_configs[validation_configs[\"Activation Function\"] == \"Tanh\"].sort_values(\"RMSE\", ascending=True).iloc[[0, 1, 2, -3, -2, -1]]"
   ]
  },
  {
   "cell_type": "code",
   "execution_count": null,
   "id": "ba131812",
   "metadata": {},
   "outputs": [],
   "source": [
    "selected_validation_configs = pd.read_csv(\n",
    "    \"data/neural-network-selected-configs-validation-set.csv\",\n",
    "    names=[\n",
    "        \"Activation Function\",\n",
    "        \"Hidden Nodes\",\n",
    "        \"Learning Parameter\",\n",
    "        \"Training Time (s)\",\n",
    "        \"Epochs\",\n",
    "        \"Validation Error\",\n",
    "        \"MSE\",\n",
    "        \"RMSE\",\n",
    "        \"MSRE\",\n",
    "        \"CE\",\n",
    "        \"RSqr\"\n",
    "    ]\n",
    ")"
   ]
  },
  {
   "cell_type": "code",
   "execution_count": null,
   "id": "e8dcc83d",
   "metadata": {},
   "outputs": [],
   "source": [
    "selected_validation_configs"
   ]
  },
  {
   "cell_type": "code",
   "execution_count": null,
   "id": "2f53de79",
   "metadata": {},
   "outputs": [],
   "source": [
    "bold_driver = pd.read_csv(\n",
    "    \"data/sigmoid-6-0.2-bold-driver.csv\",\n",
    "    names=[\n",
    "        \"Activation Function\",\n",
    "        \"Hidden Nodes\",\n",
    "        \"Learning Parameter\",\n",
    "        \"Training Time (s)\",\n",
    "        \"Epochs\",\n",
    "        \"Validation Error\",\n",
    "        \"MSE\",\n",
    "        \"RMSE\",\n",
    "        \"MSRE\",\n",
    "        \"CE\",\n",
    "        \"RSqr\"\n",
    "    ]\n",
    ")\n",
    "bold_driver"
   ]
  },
  {
   "cell_type": "code",
   "execution_count": null,
   "id": "856408d9",
   "metadata": {},
   "outputs": [],
   "source": [
    "momentum_bold_driver = pd.read_csv(\n",
    "    \"data/sigmoid-6-0.2-momentum-bold-driver.csv\",\n",
    "    names=[\n",
    "        \"Activation Function\",\n",
    "        \"Hidden Nodes\",\n",
    "        \"Learning Parameter\",\n",
    "        \"Training Time (s)\",\n",
    "        \"Epochs\",\n",
    "        \"Validation Error\",\n",
    "        \"MSE\",\n",
    "        \"RMSE\",\n",
    "        \"MSRE\",\n",
    "        \"CE\",\n",
    "        \"RSqr\"\n",
    "    ]\n",
    ")\n",
    "momentum_bold_driver"
   ]
  },
  {
   "cell_type": "code",
   "execution_count": null,
   "id": "2404149f",
   "metadata": {},
   "outputs": [],
   "source": [
    "simulated_annealing = pd.read_csv(\n",
    "    \"data/sigmoid-6-0.2-simulated-annealing.csv\",\n",
    "    names=[\n",
    "        \"Activation Function\",\n",
    "        \"Hidden Nodes\",\n",
    "        \"Learning Parameter\",\n",
    "        \"Training Time (s)\",\n",
    "        \"Epochs\",\n",
    "        \"Validation Error\",\n",
    "        \"MSE\",\n",
    "        \"RMSE\",\n",
    "        \"MSRE\",\n",
    "        \"CE\",\n",
    "        \"RSqr\"\n",
    "    ]\n",
    ")\n",
    "simulated_annealing"
   ]
  },
  {
   "cell_type": "code",
   "execution_count": null,
   "id": "e4cc4cfc",
   "metadata": {},
   "outputs": [],
   "source": []
  }
 ],
 "metadata": {
  "kernelspec": {
   "display_name": "Python 3",
   "language": "python",
   "name": "python3"
  },
  "language_info": {
   "codemirror_mode": {
    "name": "ipython",
    "version": 3
   },
   "file_extension": ".py",
   "mimetype": "text/x-python",
   "name": "python",
   "nbconvert_exporter": "python",
   "pygments_lexer": "ipython3",
   "version": "3.8.8"
  }
 },
 "nbformat": 4,
 "nbformat_minor": 5
}
