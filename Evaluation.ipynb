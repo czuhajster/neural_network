{
 "cells": [
  {
   "cell_type": "code",
   "execution_count": null,
   "id": "1a470df7",
   "metadata": {},
   "outputs": [],
   "source": [
    "import pandas as pd\n",
    "import matplotlib.pyplot as plt\n",
    "\n",
    "configs = pd.read_csv(\n",
    "    \"data/neural-network-configs-test-set.csv\",\n",
    "    names=[\n",
    "        \"Activation Function\",\n",
    "        \"Hidden Nodes\",\n",
    "        \"Learning Parameter\",\n",
    "        \"Training Time (s)\",\n",
    "        \"Epochs\",\n",
    "        \"Validation Error\",\n",
    "        \"MSE\",\n",
    "        \"RMSE\",\n",
    "        \"MSRE\",\n",
    "        \"CE\",\n",
    "        \"RSqr\"\n",
    "    ]\n",
    ")"
   ]
  },
  {
   "cell_type": "code",
   "execution_count": null,
   "id": "e608f626",
   "metadata": {},
   "outputs": [],
   "source": [
    "configs"
   ]
  },
  {
   "cell_type": "code",
   "execution_count": null,
   "id": "289ec0ef",
   "metadata": {},
   "outputs": [],
   "source": [
    "configs.loc[configs['MSE'].idxmin()]"
   ]
  },
  {
   "cell_type": "code",
   "execution_count": null,
   "id": "927d712c",
   "metadata": {},
   "outputs": [],
   "source": [
    "mse = configs.sort_values(\"MSE\", ascending=True).iloc[[0, 1, 2, -3, -2, -1]]\n",
    "mse"
   ]
  },
  {
   "cell_type": "code",
   "execution_count": null,
   "id": "cecf9ad2",
   "metadata": {},
   "outputs": [],
   "source": [
    "configs.loc[configs['RMSE'].idxmin()]"
   ]
  },
  {
   "cell_type": "code",
   "execution_count": null,
   "id": "6fb823c8",
   "metadata": {},
   "outputs": [],
   "source": [
    "rmse = configs.sort_values(\"RMSE\", ascending=True).iloc[[0, 1, 2, -3, -2, -1]]\n",
    "rmse"
   ]
  },
  {
   "cell_type": "code",
   "execution_count": null,
   "id": "0b25edcd",
   "metadata": {},
   "outputs": [],
   "source": [
    "configs.loc[configs['MSRE'].idxmin()]"
   ]
  },
  {
   "cell_type": "code",
   "execution_count": null,
   "id": "43e1f4a3",
   "metadata": {
    "scrolled": true
   },
   "outputs": [],
   "source": [
    "msre = configs.sort_values(\"MSRE\", ascending=True).iloc[[0, 1, 2, -3, -2, -1]]\n",
    "msre"
   ]
  },
  {
   "cell_type": "code",
   "execution_count": null,
   "id": "f4f42ca6",
   "metadata": {},
   "outputs": [],
   "source": [
    "configs.loc[configs['CE'].idxmax()]"
   ]
  },
  {
   "cell_type": "code",
   "execution_count": null,
   "id": "345664fc",
   "metadata": {},
   "outputs": [],
   "source": [
    "ce = configs.sort_values(\"CE\", ascending=False).iloc[[0, 1, 2, -3, -2, -1]]\n",
    "ce"
   ]
  },
  {
   "cell_type": "code",
   "execution_count": null,
   "id": "c4e616e4",
   "metadata": {},
   "outputs": [],
   "source": [
    "configs.loc[configs['RSqr'].idxmax()]"
   ]
  },
  {
   "cell_type": "code",
   "execution_count": null,
   "id": "9e21a27d",
   "metadata": {
    "scrolled": true
   },
   "outputs": [],
   "source": [
    "rsqr = configs.sort_values(\"RSqr\", ascending=False).iloc[[0, 1, 2, -3, -2, -1]]\n",
    "rsqr"
   ]
  },
  {
   "cell_type": "code",
   "execution_count": null,
   "id": "d29faba5",
   "metadata": {},
   "outputs": [],
   "source": [
    "selected_configs = pd.read_csv(\n",
    "    \"data/neural-network-selected-configs-test-set.csv\",\n",
    "    names=[\n",
    "        \"Activation Function\",\n",
    "        \"Hidden Nodes\",\n",
    "        \"Learning Parameter\",\n",
    "        \"Training Time (s)\",\n",
    "        \"Epochs\",\n",
    "        \"Validation Error\",\n",
    "        \"MSE\",\n",
    "        \"RMSE\",\n",
    "        \"MSRE\",\n",
    "        \"CE\",\n",
    "        \"RSqr\"\n",
    "    ]\n",
    ")\n",
    "selected_configs"
   ]
  },
  {
   "cell_type": "code",
   "execution_count": null,
   "id": "484c676d",
   "metadata": {},
   "outputs": [],
   "source": [
    "selected_configs.loc[selected_configs['MSE'].idxmin()]"
   ]
  },
  {
   "cell_type": "code",
   "execution_count": null,
   "id": "831187a3",
   "metadata": {},
   "outputs": [],
   "source": [
    "selected_configs.loc[selected_configs['RMSE'].idxmin()]"
   ]
  },
  {
   "cell_type": "code",
   "execution_count": null,
   "id": "856921b7",
   "metadata": {},
   "outputs": [],
   "source": [
    "selected_configs.loc[selected_configs['MSRE'].idxmin()]"
   ]
  },
  {
   "cell_type": "code",
   "execution_count": null,
   "id": "a6b2831f",
   "metadata": {},
   "outputs": [],
   "source": [
    "selected_configs.loc[selected_configs['CE'].idxmax()]"
   ]
  },
  {
   "cell_type": "code",
   "execution_count": null,
   "id": "d432fba6",
   "metadata": {},
   "outputs": [],
   "source": [
    "selected_configs.loc[selected_configs['RSqr'].idxmax()]"
   ]
  },
  {
   "cell_type": "code",
   "execution_count": null,
   "id": "58fa28e6",
   "metadata": {},
   "outputs": [],
   "source": [
    "sa_momentum = pd.read_csv(\n",
    "    \"sigmoid-6-0.2-mo-sa.csv\",\n",
    "    names=[\n",
    "        \"Activation Function\",\n",
    "        \"Hidden Nodes\",\n",
    "        \"Learning Parameter\",\n",
    "        \"Training Time (s)\",\n",
    "        \"Epochs\",\n",
    "        \"Validation Error\",\n",
    "        \"MSE\",\n",
    "        \"RMSE\",\n",
    "        \"MSRE\",\n",
    "        \"CE\",\n",
    "        \"RSqr\"\n",
    "    ]\n",
    ")\n",
    "sa_momentum"
   ]
  },
  {
   "cell_type": "code",
   "execution_count": null,
   "id": "790cf512",
   "metadata": {},
   "outputs": [],
   "source": [
    "perecents = 100 - 100 * (sa_momentum[[\"MSE\", \"RMSE\", \"MSRE\", \"CE\", \"RSqr\"]] / selected_configs.loc[1,[\"MSE\", \"RMSE\", \"MSRE\", \"CE\", \"RSqr\"]])\n",
    "perecents"
   ]
  },
  {
   "cell_type": "code",
   "execution_count": null,
   "id": "19d5356e",
   "metadata": {},
   "outputs": [],
   "source": [
    "sa = pd.read_csv(\n",
    "    \"sigmoid-6-0.2-sa.csv\",\n",
    "    names=[\n",
    "        \"Activation Function\",\n",
    "        \"Hidden Nodes\",\n",
    "        \"Learning Parameter\",\n",
    "        \"Training Time (s)\",\n",
    "        \"Epochs\",\n",
    "        \"Validation Error\",\n",
    "        \"MSE\",\n",
    "        \"RMSE\",\n",
    "        \"MSRE\",\n",
    "        \"CE\",\n",
    "        \"RSqr\"\n",
    "    ]\n",
    ")\n",
    "sa"
   ]
  },
  {
   "cell_type": "code",
   "execution_count": null,
   "id": "7a1b0db0",
   "metadata": {},
   "outputs": [],
   "source": [
    "perecents = 100 - 100 * (sa[[\"MSE\", \"RMSE\", \"MSRE\", \"CE\", \"RSqr\"]] / selected_configs.loc[1,[\"MSE\", \"RMSE\", \"MSRE\", \"CE\", \"RSqr\"]])\n",
    "perecents"
   ]
  },
  {
   "cell_type": "code",
   "execution_count": null,
   "id": "c2acd1ae",
   "metadata": {},
   "outputs": [],
   "source": [
    "validation_configs = pd.read_csv(\n",
    "    \"data/neural-network-configs-validation-set.csv\",\n",
    "    names=[\n",
    "        \"Activation Function\",\n",
    "        \"Hidden Nodes\",\n",
    "        \"Learning Parameter\",\n",
    "        \"Training Time (s)\",\n",
    "        \"Epochs\",\n",
    "        \"Validation Error\",\n",
    "        \"MSE\",\n",
    "        \"RMSE\",\n",
    "        \"MSRE\",\n",
    "        \"CE\",\n",
    "        \"RSqr\"\n",
    "    ]\n",
    ")"
   ]
  },
  {
   "cell_type": "code",
   "execution_count": null,
   "id": "0f47e439",
   "metadata": {},
   "outputs": [],
   "source": [
    "validation_configs.sort_values(\"MSE\", ascending=True).iloc[[0, 1, 2, -3, -2, -1]]"
   ]
  },
  {
   "cell_type": "code",
   "execution_count": null,
   "id": "31321069",
   "metadata": {},
   "outputs": [],
   "source": [
    "validation_configs.sort_values(\"RMSE\", ascending=True).iloc[[0, 1, 2, -3, -2, -1]]"
   ]
  },
  {
   "cell_type": "code",
   "execution_count": null,
   "id": "6ffe575a",
   "metadata": {},
   "outputs": [],
   "source": [
    "validation_configs.sort_values(\"MSRE\", ascending=True).iloc[[0, 1, 2, -3, -2, -1]]"
   ]
  },
  {
   "cell_type": "code",
   "execution_count": null,
   "id": "91768273",
   "metadata": {},
   "outputs": [],
   "source": [
    "validation_configs.sort_values(\"CE\", ascending=False).iloc[[0, 1, 2, -3, -2, -1]]"
   ]
  },
  {
   "cell_type": "code",
   "execution_count": null,
   "id": "14437782",
   "metadata": {
    "scrolled": true
   },
   "outputs": [],
   "source": [
    "validation_configs.sort_values(\"RSqr\", ascending=False).iloc[[0, 1, 2, -3, -2, -1]]"
   ]
  },
  {
   "cell_type": "code",
   "execution_count": null,
   "id": "b9842bdf",
   "metadata": {},
   "outputs": [],
   "source": [
    "validation_configs[validation_configs[\"Activation Function\"] == \"Tanh\"].sort_values(\"RSqr\", ascending=False).iloc[[0, 1, 2, -3, -2, -1]]"
   ]
  },
  {
   "cell_type": "code",
   "execution_count": null,
   "id": "f58339e9",
   "metadata": {},
   "outputs": [],
   "source": [
    "validation_configs[validation_configs[\"Activation Function\"] == \"Tanh\"].sort_values(\"CE\", ascending=False).iloc[[0, 1, 2, -3, -2, -1]]"
   ]
  },
  {
   "cell_type": "code",
   "execution_count": null,
   "id": "8215cb6b",
   "metadata": {},
   "outputs": [],
   "source": [
    "validation_configs[validation_configs[\"Activation Function\"] == \"Tanh\"].sort_values(\"RMSE\", ascending=True).iloc[[0, 1, 2, -3, -2, -1]]"
   ]
  },
  {
   "cell_type": "code",
   "execution_count": null,
   "id": "ba131812",
   "metadata": {},
   "outputs": [],
   "source": [
    "selected_validation_configs = pd.read_csv(\n",
    "    \"data/neural-network-selected-configs-validation-set.csv\",\n",
    "    names=[\n",
    "        \"Activation Function\",\n",
    "        \"Hidden Nodes\",\n",
    "        \"Learning Parameter\",\n",
    "        \"Training Time (s)\",\n",
    "        \"Epochs\",\n",
    "        \"Validation Error\",\n",
    "        \"MSE\",\n",
    "        \"RMSE\",\n",
    "        \"MSRE\",\n",
    "        \"CE\",\n",
    "        \"RSqr\"\n",
    "    ]\n",
    ")"
   ]
  },
  {
   "cell_type": "code",
   "execution_count": null,
   "id": "e8dcc83d",
   "metadata": {},
   "outputs": [],
   "source": [
    "selected_validation_configs"
   ]
  },
  {
   "cell_type": "code",
   "execution_count": null,
   "id": "8afcb0fa",
   "metadata": {},
   "outputs": [],
   "source": [
    "momentum = pd.read_csv(\n",
    "    \"data/sigmoid-6-0.2-momentum.csv\",\n",
    "    names=[\n",
    "        \"Activation Function\",\n",
    "        \"Hidden Nodes\",\n",
    "        \"Learning Parameter\",\n",
    "        \"Training Time (s)\",\n",
    "        \"Epochs\",\n",
    "        \"Validation Error\",\n",
    "        \"MSE\",\n",
    "        \"RMSE\",\n",
    "        \"MSRE\",\n",
    "        \"CE\",\n",
    "        \"RSqr\"\n",
    "    ]\n",
    ")\n",
    "momentum"
   ]
  },
  {
   "cell_type": "code",
   "execution_count": null,
   "id": "8f007481",
   "metadata": {},
   "outputs": [],
   "source": [
    "momentum_bold_driver = pd.read_csv(\n",
    "    \"data/sigmoid-6-0.2-momentum-bold-driver.csv\",\n",
    "    names=[\n",
    "        \"Activation Function\",\n",
    "        \"Hidden Nodes\",\n",
    "        \"Learning Parameter\",\n",
    "        \"Training Time (s)\",\n",
    "        \"Epochs\",\n",
    "        \"Validation Error\",\n",
    "        \"MSE\",\n",
    "        \"RMSE\",\n",
    "        \"MSRE\",\n",
    "        \"CE\",\n",
    "        \"RSqr\"\n",
    "    ]\n",
    ")\n",
    "momentum_bold_driver"
   ]
  },
  {
   "cell_type": "code",
   "execution_count": null,
   "id": "3664bcc9",
   "metadata": {},
   "outputs": [],
   "source": [
    "momentum_simulated_annealing = pd.read_csv(\n",
    "    \"data/sigmoid-6-0.2-momentum-simulated-annealing.csv\",\n",
    "    names=[\n",
    "        \"Activation Function\",\n",
    "        \"Hidden Nodes\",\n",
    "        \"Learning Parameter\",\n",
    "        \"Training Time (s)\",\n",
    "        \"Epochs\",\n",
    "        \"Validation Error\",\n",
    "        \"MSE\",\n",
    "        \"RMSE\",\n",
    "        \"MSRE\",\n",
    "        \"CE\",\n",
    "        \"RSqr\"\n",
    "    ]\n",
    ")\n",
    "momentum_simulated_annealing"
   ]
  },
  {
   "cell_type": "code",
   "execution_count": null,
   "id": "c3ce2c2d",
   "metadata": {},
   "outputs": [],
   "source": [
    "momentum_weight_decay = pd.read_csv(\n",
    "    \"data/sigmoid-6-0.2-momentum-weight-decay.csv\",\n",
    "    names=[\n",
    "        \"Activation Function\",\n",
    "        \"Hidden Nodes\",\n",
    "        \"Learning Parameter\",\n",
    "        \"Training Time (s)\",\n",
    "        \"Epochs\",\n",
    "        \"Validation Error\",\n",
    "        \"MSE\",\n",
    "        \"RMSE\",\n",
    "        \"MSRE\",\n",
    "        \"CE\",\n",
    "        \"RSqr\"\n",
    "    ]\n",
    ")\n",
    "momentum_weight_decay"
   ]
  },
  {
   "cell_type": "code",
   "execution_count": null,
   "id": "b225ab58",
   "metadata": {},
   "outputs": [],
   "source": [
    "momentum_bold_driver_weight_decay = pd.read_csv(\n",
    "    \"data/sigmoid-6-0.2-momentum-bold-driver-weight-decay.csv\",\n",
    "    names=[\n",
    "        \"Activation Function\",\n",
    "        \"Hidden Nodes\",\n",
    "        \"Learning Parameter\",\n",
    "        \"Training Time (s)\",\n",
    "        \"Epochs\",\n",
    "        \"Validation Error\",\n",
    "        \"MSE\",\n",
    "        \"RMSE\",\n",
    "        \"MSRE\",\n",
    "        \"CE\",\n",
    "        \"RSqr\"\n",
    "    ]\n",
    ")\n",
    "momentum_bold_driver_weight_decay"
   ]
  },
  {
   "cell_type": "code",
   "execution_count": null,
   "id": "d3e5f6ad",
   "metadata": {},
   "outputs": [],
   "source": [
    "momentum_simulated_annealing_weight_decay = pd.read_csv(\n",
    "    \"data/sigmoid-6-0.2-momentum-simulated-annealing-weight-decay.csv\",\n",
    "    names=[\n",
    "        \"Activation Function\",\n",
    "        \"Hidden Nodes\",\n",
    "        \"Learning Parameter\",\n",
    "        \"Training Time (s)\",\n",
    "        \"Epochs\",\n",
    "        \"Validation Error\",\n",
    "        \"MSE\",\n",
    "        \"RMSE\",\n",
    "        \"MSRE\",\n",
    "        \"CE\",\n",
    "        \"RSqr\"\n",
    "    ]\n",
    ")\n",
    "momentum_simulated_annealing_weight_decay"
   ]
  },
  {
   "cell_type": "code",
   "execution_count": null,
   "id": "2f53de79",
   "metadata": {},
   "outputs": [],
   "source": [
    "bold_driver = pd.read_csv(\n",
    "    \"data/sigmoid-6-0.2-bold-driver.csv\",\n",
    "    names=[\n",
    "        \"Activation Function\",\n",
    "        \"Hidden Nodes\",\n",
    "        \"Learning Parameter\",\n",
    "        \"Training Time (s)\",\n",
    "        \"Epochs\",\n",
    "        \"Validation Error\",\n",
    "        \"MSE\",\n",
    "        \"RMSE\",\n",
    "        \"MSRE\",\n",
    "        \"CE\",\n",
    "        \"RSqr\"\n",
    "    ]\n",
    ")\n",
    "bold_driver"
   ]
  },
  {
   "cell_type": "code",
   "execution_count": null,
   "id": "5be0dffb",
   "metadata": {},
   "outputs": [],
   "source": [
    "bold_driver_weight_decay = pd.read_csv(\n",
    "    \"data/sigmoid-6-0.2-bold-driver.csv\",\n",
    "    names=[\n",
    "        \"Activation Function\",\n",
    "        \"Hidden Nodes\",\n",
    "        \"Learning Parameter\",\n",
    "        \"Training Time (s)\",\n",
    "        \"Epochs\",\n",
    "        \"Validation Error\",\n",
    "        \"MSE\",\n",
    "        \"RMSE\",\n",
    "        \"MSRE\",\n",
    "        \"CE\",\n",
    "        \"RSqr\"\n",
    "    ]\n",
    ")\n",
    "bold_driver_weight_decay"
   ]
  },
  {
   "cell_type": "code",
   "execution_count": null,
   "id": "2404149f",
   "metadata": {},
   "outputs": [],
   "source": [
    "simulated_annealing = pd.read_csv(\n",
    "    \"data/sigmoid-6-0.2-simulated-annealing.csv\",\n",
    "    names=[\n",
    "        \"Activation Function\",\n",
    "        \"Hidden Nodes\",\n",
    "        \"Learning Parameter\",\n",
    "        \"Training Time (s)\",\n",
    "        \"Epochs\",\n",
    "        \"Validation Error\",\n",
    "        \"MSE\",\n",
    "        \"RMSE\",\n",
    "        \"MSRE\",\n",
    "        \"CE\",\n",
    "        \"RSqr\"\n",
    "    ]\n",
    ")\n",
    "simulated_annealing"
   ]
  },
  {
   "cell_type": "code",
   "execution_count": null,
   "id": "e4cc4cfc",
   "metadata": {},
   "outputs": [],
   "source": [
    "simulated_annealing_weight_decay = pd.read_csv(\n",
    "    \"data/sigmoid-6-0.2-simulated-annealing-weight-decay.csv\",\n",
    "    names=[\n",
    "        \"Activation Function\",\n",
    "        \"Hidden Nodes\",\n",
    "        \"Learning Parameter\",\n",
    "        \"Training Time (s)\",\n",
    "        \"Epochs\",\n",
    "        \"Validation Error\",\n",
    "        \"MSE\",\n",
    "        \"RMSE\",\n",
    "        \"MSRE\",\n",
    "        \"CE\",\n",
    "        \"RSqr\"\n",
    "    ]\n",
    ")\n",
    "simulated_annealing_weight_decay"
   ]
  },
  {
   "cell_type": "code",
   "execution_count": null,
   "id": "f189c1b6",
   "metadata": {},
   "outputs": [],
   "source": [
    "weight_decay = pd.read_csv(\n",
    "    \"data/sigmoid-6-0.2-weight-decay.csv\",\n",
    "    names=[\n",
    "        \"Activation Function\",\n",
    "        \"Hidden Nodes\",\n",
    "        \"Learning Parameter\",\n",
    "        \"Training Time (s)\",\n",
    "        \"Epochs\",\n",
    "        \"Validation Error\",\n",
    "        \"MSE\",\n",
    "        \"RMSE\",\n",
    "        \"MSRE\",\n",
    "        \"CE\",\n",
    "        \"RSqr\"\n",
    "    ]\n",
    ")\n",
    "weight_decay"
   ]
  },
  {
   "cell_type": "code",
   "execution_count": null,
   "id": "40817903",
   "metadata": {},
   "outputs": [],
   "source": [
    "extensions = pd.concat(\n",
    "    (\n",
    "        momentum,\n",
    "        momentum_bold_driver,\n",
    "        momentum_simulated_annealing,\n",
    "        momentum_weight_decay,\n",
    "        momentum_bold_driver_weight_decay,\n",
    "        momentum_simulated_annealing_weight_decay,\n",
    "        bold_driver,\n",
    "        bold_driver_weight_decay,\n",
    "        simulated_annealing,\n",
    "        simulated_annealing_weight_decay,\n",
    "        weight_decay\n",
    "    ),\n",
    "    ignore_index=True,\n",
    ")\n",
    "\n",
    "index = [\n",
    "    \"momentum\",\n",
    "    \"momentum & bold driver\",\n",
    "    \"momentum & simulated annealing\",\n",
    "    \"momentum & weight decay\",\n",
    "    \"momentum & bold driver & weight decay\",\n",
    "    \"momentum & simulated annealing & weight decay\",\n",
    "    \"bold driver\",\n",
    "    \"bold driver & weight decay\",\n",
    "    \"simulated annealing\",\n",
    "    \"simulated annealing & weight decay\",\n",
    "    \"weight decay\"\n",
    "]\n",
    "\n",
    "\n",
    "extensions['Extension'] = index\n",
    "extensions = extensions.set_index('Extension')\n",
    "extensions"
   ]
  },
  {
   "cell_type": "code",
   "execution_count": null,
   "id": "f4652f5b",
   "metadata": {
    "scrolled": true
   },
   "outputs": [],
   "source": [
    "extensions[\"MSE\"].sort_values(ascending=False).plot(kind=\"barh\", ylabel=\"MSE\")\n",
    "plt.savefig('figures/extensions-mse.png')"
   ]
  },
  {
   "cell_type": "code",
   "execution_count": null,
   "id": "585f5cdb",
   "metadata": {},
   "outputs": [],
   "source": [
    "extensions[\"RMSE\"].sort_values(ascending=False).plot(kind=\"barh\", ylabel=\"RMSE\")\n",
    "plt.savefig('figures/extensions-rmse.png')"
   ]
  },
  {
   "cell_type": "code",
   "execution_count": null,
   "id": "ea13457e",
   "metadata": {},
   "outputs": [],
   "source": [
    "extensions[\"MSRE\"].sort_values(ascending=False).plot(kind=\"barh\", ylabel=\"MSRE\")\n",
    "plt.savefig('figures/extensions-msre.png')"
   ]
  },
  {
   "cell_type": "code",
   "execution_count": null,
   "id": "df50b764",
   "metadata": {},
   "outputs": [],
   "source": [
    "extensions[\"CE\"].sort_values(ascending=True).plot(kind=\"barh\", ylabel=\"CE\")\n",
    "plt.savefig('figures/extensions-ce.png')"
   ]
  },
  {
   "cell_type": "code",
   "execution_count": null,
   "id": "8b99a04d",
   "metadata": {},
   "outputs": [],
   "source": [
    "#extensions[\"RSqr\"].sort_values(ascending=True).plot(kind=\"barh\", ylabel=\"RSqr\")\n",
    "plt.savefig('figures/extensions-rsqr.png')\n",
    "\n",
    "fig, axes = plt.subplots(nrows=5, ncols=1, figsize=6,15))\n",
    "\n",
    "plt.subplots_adjust(wspace=2, hspace=0.5)\n",
    "\n",
    "extensions[\"MSE\"].sort_values(ascending=False).plot(kind=\"barh\", ylabel=\"MSE\", ax=axes[0])\n",
    "extensions[\"RMSE\"].sort_values(ascending=False).plot(kind=\"barh\", ylabel=\"RMSE\", ax=axes[1])\n",
    "extensions[\"MSRE\"].sort_values(ascending=False).plot(kind=\"barh\", ylabel=\"MSRE\", ax=axes[2])\n",
    "extensions[\"CE\"].sort_values(ascending=True).plot(kind=\"barh\", ylabel=\"CE\", ax=axes[3])\n",
    "extensions[\"RSqr\"].sort_values(ascending=True).plot(kind=\"barh\", ylabel=\"RSqr\", ax=axes[4])\n",
    "\n",
    "axes[0].set_title(\"Mean Squared Error for model with different extensions\")\n",
    "axes[1].set_title(\"Root Mean Squared Error for model with different extensions\")\n",
    "axes[2].set_title(\"Mean Squared Root Error for model with different extensions\")\n",
    "axes[3].set_title(\"Coefficient of Efficiency for model with different extensions\")\n",
    "axes[4].set_title(\"Coefficient of Determination for model with different extensions\")\n",
    "plt.savefig('figures/extensions.png', bbox_inches = \"tight\")"
   ]
  },
  {
   "cell_type": "code",
   "execution_count": null,
   "id": "ebf52c28",
   "metadata": {},
   "outputs": [],
   "source": []
  }
 ],
 "metadata": {
  "kernelspec": {
   "display_name": "Python 3",
   "language": "python",
   "name": "python3"
  },
  "language_info": {
   "codemirror_mode": {
    "name": "ipython",
    "version": 3
   },
   "file_extension": ".py",
   "mimetype": "text/x-python",
   "name": "python",
   "nbconvert_exporter": "python",
   "pygments_lexer": "ipython3",
   "version": "3.8.8"
  }
 },
 "nbformat": 4,
 "nbformat_minor": 5
}
