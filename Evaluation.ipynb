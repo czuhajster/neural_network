{
 "cells": [
  {
   "cell_type": "code",
   "execution_count": null,
   "id": "1a470df7",
   "metadata": {},
   "outputs": [],
   "source": [
    "import pandas as pd\n",
    "\n",
    "configs = pd.read_csv(\n",
    "    \"neural-network-configs.csv\",\n",
    "    names=[\n",
    "        \"Activation Function\",\n",
    "        \"Hidden Nodes\",\n",
    "        \"Learning Parameter\",\n",
    "        \"Training Time (s)\",\n",
    "        \"Epochs\",\n",
    "        \"Validation Error\",\n",
    "        \"MSE\",\n",
    "        \"RMSE\",\n",
    "        \"MSRE\",\n",
    "        \"CE\",\n",
    "        \"RSqr\"\n",
    "    ]\n",
    ")"
   ]
  },
  {
   "cell_type": "code",
   "execution_count": null,
   "id": "e608f626",
   "metadata": {},
   "outputs": [],
   "source": [
    "configs"
   ]
  },
  {
   "cell_type": "code",
   "execution_count": null,
   "id": "289ec0ef",
   "metadata": {},
   "outputs": [],
   "source": [
    "configs.loc[configs['MSE'].idxmin()]"
   ]
  },
  {
   "cell_type": "code",
   "execution_count": null,
   "id": "927d712c",
   "metadata": {},
   "outputs": [],
   "source": [
    "mse = configs.sort_values(\"MSE\", ascending=True).iloc[[0, 1, 2, -3, -2, -1]]\n",
    "mse"
   ]
  },
  {
   "cell_type": "code",
   "execution_count": null,
   "id": "cecf9ad2",
   "metadata": {},
   "outputs": [],
   "source": [
    "configs.loc[configs['RMSE'].idxmin()]"
   ]
  },
  {
   "cell_type": "code",
   "execution_count": null,
   "id": "6fb823c8",
   "metadata": {},
   "outputs": [],
   "source": [
    "rmse = configs.sort_values(\"RMSE\", ascending=True).iloc[[0, 1, 2, -3, -2, -1]]\n",
    "rmse"
   ]
  },
  {
   "cell_type": "code",
   "execution_count": null,
   "id": "0b25edcd",
   "metadata": {},
   "outputs": [],
   "source": [
    "configs.loc[configs['MSRE'].idxmin()]"
   ]
  },
  {
   "cell_type": "code",
   "execution_count": null,
   "id": "43e1f4a3",
   "metadata": {
    "scrolled": true
   },
   "outputs": [],
   "source": [
    "msre = configs.sort_values(\"MSRE\", ascending=True).iloc[[0, 1, 2, -3, -2, -1]]\n",
    "msre"
   ]
  },
  {
   "cell_type": "code",
   "execution_count": null,
   "id": "f4f42ca6",
   "metadata": {},
   "outputs": [],
   "source": [
    "configs.loc[configs['CE'].idxmax()]"
   ]
  },
  {
   "cell_type": "code",
   "execution_count": null,
   "id": "345664fc",
   "metadata": {},
   "outputs": [],
   "source": [
    "ce = configs.sort_values(\"CE\", ascending=False).iloc[[0, 1, 2, -3, -2, -1]]\n",
    "ce"
   ]
  },
  {
   "cell_type": "code",
   "execution_count": null,
   "id": "c4e616e4",
   "metadata": {},
   "outputs": [],
   "source": [
    "configs.loc[configs['RSqr'].idxmax()]"
   ]
  },
  {
   "cell_type": "code",
   "execution_count": null,
   "id": "9e21a27d",
   "metadata": {
    "scrolled": true
   },
   "outputs": [],
   "source": [
    "rsqr = configs.sort_values(\"RSqr\", ascending=False).iloc[[0, 1, 2, -3, -2, -1]]\n",
    "rsqr"
   ]
  },
  {
   "cell_type": "code",
   "execution_count": null,
   "id": "d4bbc8ca",
   "metadata": {},
   "outputs": [],
   "source": []
  }
 ],
 "metadata": {
  "kernelspec": {
   "display_name": "Python 3",
   "language": "python",
   "name": "python3"
  },
  "language_info": {
   "codemirror_mode": {
    "name": "ipython",
    "version": 3
   },
   "file_extension": ".py",
   "mimetype": "text/x-python",
   "name": "python",
   "nbconvert_exporter": "python",
   "pygments_lexer": "ipython3",
   "version": "3.8.8"
  }
 },
 "nbformat": 4,
 "nbformat_minor": 5
}
